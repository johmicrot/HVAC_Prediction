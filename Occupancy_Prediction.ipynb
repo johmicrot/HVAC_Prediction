{
 "cells": [
  {
   "cell_type": "markdown",
   "id": "a3aeea24-c5fd-4c4b-91f8-e46352cf13e0",
   "metadata": {
    "jp-MarkdownHeadingCollapsed": true,
    "tags": []
   },
   "source": [
    "# Imports"
   ]
  },
  {
   "cell_type": "code",
   "execution_count": 1,
   "id": "2d3b8982-79e1-4ff8-bdf0-29dc12800158",
   "metadata": {},
   "outputs": [],
   "source": [
    "import pandas as pd\n",
    "from sklearn.linear_model import SGDClassifier\n",
    "from sklearn.metrics import ConfusionMatrixDisplay\n",
    "import matplotlib.pyplot as plt\n",
    "from sklearn import metrics #Import scikit-learn metrics module for accuracy calculation\n",
    "from sklearn.preprocessing import StandardScaler, MinMaxScaler\n",
    "import numpy as np\n",
    "from sklearn.metrics import make_scorer, roc_auc_score\n",
    "auc = make_scorer(roc_auc_score)\n",
    "# from sklearn.experimental import enable_halving_search_cv  # noqa\n",
    "from sklearn.experimental import enable_halving_search_cv # noqa\n",
    "import warnings\n",
    "warnings.filterwarnings(\"ignore\")\n",
    "import pickle"
   ]
  },
  {
   "cell_type": "markdown",
   "id": "158c4be3-bae3-415b-8ac6-cbf04d853791",
   "metadata": {
    "tags": []
   },
   "source": [
    "# Data Preprocessing"
   ]
  },
  {
   "cell_type": "markdown",
   "id": "77fbbbe4-5ef7-4c93-bd73-8fa566c2a729",
   "metadata": {},
   "source": [
    "### Variable Initialization"
   ]
  },
  {
   "cell_type": "code",
   "execution_count": 2,
   "id": "9b58a74b-f3c3-4f74-ad64-2a9136aa4209",
   "metadata": {},
   "outputs": [],
   "source": [
    "#start and end working hours\n",
    "start_h = 7\n",
    "end_h = 18\n",
    "friday = 4\n",
    "# Features we would like to min-max scale\n",
    "scale_cols = ['Temperature', 'Humidity','Light', 'CO2']\n",
    "# Features we don't want to pass to the model\n",
    "exclude_cols = ['Occupancy', 'date', 'HumidityRatio']"
   ]
  },
  {
   "cell_type": "code",
   "execution_count": 3,
   "id": "3ffe3dad-4726-487e-bb8e-cdcd3ad4f12a",
   "metadata": {},
   "outputs": [],
   "source": [
    "# loading data\n",
    "train = pd.read_csv(\"datatraining.txt\")\n",
    "train['date'] = pd.to_datetime(train['date'])\n",
    "test1 = pd.read_csv(\"datatest.txt\")\n",
    "test1['date'] = pd.to_datetime(test1['date'])\n",
    "test2 = pd.read_csv(\"datatest2.txt\")\n",
    "test2['date'] = pd.to_datetime(test2['date'])\n",
    "test = pd.concat([test1, test2])\n",
    "\n",
    "train['Occupancy'] = train['Occupancy'].astype(\"category\")\n",
    "test['Occupancy'] = test['Occupancy'].astype(\"category\")"
   ]
  },
  {
   "cell_type": "code",
   "execution_count": 4,
   "id": "a0e6d349-8bca-42e9-9846-c6084ebe2daf",
   "metadata": {},
   "outputs": [],
   "source": [
    "# It's important to scale the features from 0 to 1 so the learning is easier.  \n",
    "# We don't need to do the other classes as they are not used in training\n",
    "scaler = MinMaxScaler()\n",
    "\n",
    "scaler.fit(np.array(train[scale_cols]))\n",
    "#Save the file using pickel, \n",
    "pickle.dump(scaler, open('feature_scaler.sav', 'wb'))\n",
    "train[scale_cols] = scaler.transform(np.array(train[scale_cols]))\n",
    "test[scale_cols] = scaler.transform(np.array(test[scale_cols]))"
   ]
  },
  {
   "cell_type": "code",
   "execution_count": 5,
   "id": "2ea81502-c364-4df4-ba17-92e15ebf72c0",
   "metadata": {},
   "outputs": [
    {
     "data": {
      "text/html": [
       "<div>\n",
       "<style scoped>\n",
       "    .dataframe tbody tr th:only-of-type {\n",
       "        vertical-align: middle;\n",
       "    }\n",
       "\n",
       "    .dataframe tbody tr th {\n",
       "        vertical-align: top;\n",
       "    }\n",
       "\n",
       "    .dataframe thead th {\n",
       "        text-align: right;\n",
       "    }\n",
       "</style>\n",
       "<table border=\"1\" class=\"dataframe\">\n",
       "  <thead>\n",
       "    <tr style=\"text-align: right;\">\n",
       "      <th></th>\n",
       "      <th>Temperature</th>\n",
       "      <th>Humidity</th>\n",
       "      <th>Light</th>\n",
       "      <th>CO2</th>\n",
       "      <th>HumidityRatio</th>\n",
       "    </tr>\n",
       "  </thead>\n",
       "  <tbody>\n",
       "    <tr>\n",
       "      <th>count</th>\n",
       "      <td>8143.000000</td>\n",
       "      <td>8143.000000</td>\n",
       "      <td>8143.000000</td>\n",
       "      <td>8143.000000</td>\n",
       "      <td>8143.000000</td>\n",
       "    </tr>\n",
       "    <tr>\n",
       "      <th>mean</th>\n",
       "      <td>0.387341</td>\n",
       "      <td>0.401676</td>\n",
       "      <td>0.077292</td>\n",
       "      <td>0.119942</td>\n",
       "      <td>0.003863</td>\n",
       "    </tr>\n",
       "    <tr>\n",
       "      <th>std</th>\n",
       "      <td>0.243281</td>\n",
       "      <td>0.247233</td>\n",
       "      <td>0.125947</td>\n",
       "      <td>0.194536</td>\n",
       "      <td>0.000852</td>\n",
       "    </tr>\n",
       "    <tr>\n",
       "      <th>min</th>\n",
       "      <td>0.000000</td>\n",
       "      <td>0.000000</td>\n",
       "      <td>0.000000</td>\n",
       "      <td>0.000000</td>\n",
       "      <td>0.002674</td>\n",
       "    </tr>\n",
       "    <tr>\n",
       "      <th>25%</th>\n",
       "      <td>0.167464</td>\n",
       "      <td>0.154431</td>\n",
       "      <td>0.000000</td>\n",
       "      <td>0.016246</td>\n",
       "      <td>0.003078</td>\n",
       "    </tr>\n",
       "    <tr>\n",
       "      <th>50%</th>\n",
       "      <td>0.332536</td>\n",
       "      <td>0.423623</td>\n",
       "      <td>0.000000</td>\n",
       "      <td>0.025220</td>\n",
       "      <td>0.003801</td>\n",
       "    </tr>\n",
       "    <tr>\n",
       "      <th>75%</th>\n",
       "      <td>0.571770</td>\n",
       "      <td>0.616307</td>\n",
       "      <td>0.165795</td>\n",
       "      <td>0.139925</td>\n",
       "      <td>0.004352</td>\n",
       "    </tr>\n",
       "    <tr>\n",
       "      <th>max</th>\n",
       "      <td>1.000000</td>\n",
       "      <td>1.000000</td>\n",
       "      <td>1.000000</td>\n",
       "      <td>1.000000</td>\n",
       "      <td>0.006476</td>\n",
       "    </tr>\n",
       "  </tbody>\n",
       "</table>\n",
       "</div>"
      ],
      "text/plain": [
       "       Temperature     Humidity        Light          CO2  HumidityRatio\n",
       "count  8143.000000  8143.000000  8143.000000  8143.000000    8143.000000\n",
       "mean      0.387341     0.401676     0.077292     0.119942       0.003863\n",
       "std       0.243281     0.247233     0.125947     0.194536       0.000852\n",
       "min       0.000000     0.000000     0.000000     0.000000       0.002674\n",
       "25%       0.167464     0.154431     0.000000     0.016246       0.003078\n",
       "50%       0.332536     0.423623     0.000000     0.025220       0.003801\n",
       "75%       0.571770     0.616307     0.165795     0.139925       0.004352\n",
       "max       1.000000     1.000000     1.000000     1.000000       0.006476"
      ]
     },
     "execution_count": 5,
     "metadata": {},
     "output_type": "execute_result"
    }
   ],
   "source": [
    "train.describe()"
   ]
  },
  {
   "cell_type": "markdown",
   "id": "4900cae9-d7e2-4893-9a8e-594803dfc8d1",
   "metadata": {},
   "source": [
    "# Adding a helper variables"
   ]
  },
  {
   "cell_type": "markdown",
   "id": "e576ddaf-bf6e-45c2-b595-656a1e0b83cd",
   "metadata": {},
   "source": [
    "We have additional knowledge about the enviornment, and quite often if we can feed in helpful information to our models, we can assist the learning. In our case we know when the work days begin and end.  So we will create a boolean variable that indicates if its working time or not."
   ]
  },
  {
   "cell_type": "markdown",
   "id": "a3f08a37-07a7-4b7d-92d3-2d7bbfb26c36",
   "metadata": {},
   "source": [
    "First generate masks"
   ]
  },
  {
   "cell_type": "code",
   "execution_count": 19,
   "id": "f4c5cab2-4993-4e1d-8edd-e4a868b932aa",
   "metadata": {},
   "outputs": [],
   "source": [
    "# Train and test masks which allow for selection of: week days and working hours\n",
    "wd_mask          = train['date'].dt.weekday <= friday\n",
    "wd_mask_test     = test['date'].dt.weekday <= friday\n",
    "wh_mask_tmp      = np.logical_and(train['date'].dt.hour <= end_h, train['date'].dt.hour >= start_h)\n",
    "wh_mask_test_tmp = np.logical_and(test['date'].dt.hour <= end_h, test['date'].dt.hour >= start_h)\n",
    "\n",
    "wh_mask      = np.logical_and(wh_mask_tmp , wd_mask)\n",
    "wh_mask_test = np.logical_and(wh_mask_test_tmp, wd_mask_test)"
   ]
  },
  {
   "cell_type": "markdown",
   "id": "d32e3140-ed62-48cd-8232-f5885dc1493a",
   "metadata": {},
   "source": [
    "create columns"
   ]
  },
  {
   "cell_type": "code",
   "execution_count": 7,
   "id": "42d42410-6b52-4c2b-a637-7508c44556ff",
   "metadata": {},
   "outputs": [],
   "source": [
    "train['Work-hour'] = wh_mask.astype(int)\n",
    "train['Work-hour'] = train['Work-hour'].astype(\"category\")\n",
    "\n",
    "test['Work-hour'] = wh_mask_test.astype(int)\n",
    "test['Work-hour'] = test['Work-hour'].astype(\"category\")"
   ]
  },
  {
   "cell_type": "markdown",
   "id": "086b8f47-c22f-42eb-9d49-403133c72d12",
   "metadata": {},
   "source": [
    "Create dataset only with work days and work hours"
   ]
  },
  {
   "cell_type": "code",
   "execution_count": 20,
   "id": "5612ffa4-f012-41e9-b2e7-7ff084867969",
   "metadata": {},
   "outputs": [],
   "source": [
    "train_wd = train[wd_mask]\n",
    "train_wh = train[wh_mask]"
   ]
  },
  {
   "cell_type": "markdown",
   "id": "d762eb7c-9a97-494c-a1b7-b050dfd60b0e",
   "metadata": {
    "tags": []
   },
   "source": [
    "# Ballancing Classes"
   ]
  },
  {
   "cell_type": "markdown",
   "id": "679ce164-8623-4833-9e0f-5e3fd1b56213",
   "metadata": {},
   "source": [
    "Class imballance is a problem and needs to be dealt with.  We can under sample the majority class or over sample the minority dataset. Considering the low number of training samples, we will stick with oversampling the class minority class."
   ]
  },
  {
   "cell_type": "code",
   "execution_count": 9,
   "id": "903c3878-11d3-4b4b-a5f5-493450bbe227",
   "metadata": {},
   "outputs": [
    {
     "data": {
      "image/png": "[encoded data removed]",
      "text/plain": [
       "<Figure size 1440x360 with 2 Axes>"
      ]
     },
     "metadata": {
      "needs_background": "light"
     },
     "output_type": "display_data"
    }
   ],
   "source": [
    "num_Nooccupided=np.sum(train['Occupancy'] == 0)\n",
    "num_occupied = np.sum(train['Occupancy'] == 1)\n",
    "num_Nooccupided,num_occupied = train['Occupancy'].value_counts()\n",
    "\n",
    "train_occupied, train_Nooccupided = train[train['Occupancy'] == 1], train[train['Occupancy'] == 0]\n",
    "train_occupied_sampled = train_occupied.sample(num_Nooccupided, replace=True)\n",
    "train_ballanced = pd.concat([train_occupied_sampled, train_Nooccupided], axis=0)\n",
    "counts = train_ballanced['Occupancy'].value_counts()\n",
    "\n",
    "fig, axs = plt.subplots(1, 2,figsize=(20,5))\n",
    "axs[0].bar(['Occupied','Unoccupied'],[num_occupied, num_Nooccupided])\n",
    "axs[0].set_title('Unballanced Train Dataset')\n",
    "axs[1].bar(['Occupied','Unoccupied'],[counts[0],counts[1]])\n",
    "axs[1].set_title('Ballanced Train Dataset')\n",
    "plt.show()"
   ]
  },
  {
   "cell_type": "markdown",
   "id": "57bae511-ad5b-436b-aa7e-4f80391b62fe",
   "metadata": {},
   "source": [
    "## Baseline"
   ]
  },
  {
   "cell_type": "markdown",
   "id": "026692bb-873b-441b-b5d2-cb3de97d74fc",
   "metadata": {},
   "source": [
    "The **baseline** represents a simple program that would looks at the current hour, and turn on the HVAC if the time is between 7 to 7pm (working hours). Therefore if we use this "
   ]
  },
  {
   "cell_type": "code",
   "execution_count": 10,
   "id": "a0c0e292-eec2-496a-98fe-07245c1d3321",
   "metadata": {},
   "outputs": [
    {
     "name": "stdout",
     "output_type": "stream",
     "text": [
      "Test Accuracy for Naieve guessing during Work hours :  0.881130707900459\n"
     ]
    }
   ],
   "source": [
    "# Monday is represented as 0, and Friday is 4.\n",
    "b_mask_end   = test['date'].dt.hour <= end_h\n",
    "b_mask_start = test['date'].dt.hour >= start_h\n",
    "b_mask_day   = test['date'].dt.weekday <= friday\n",
    "baseline_mask = b_mask_day * b_mask_start * b_mask_end\n",
    "baseline = metrics.accuracy_score(test.Occupancy, baseline_mask.astype(int))\n",
    "print('Test Accuracy for Naieve guessing during Work hours : ', baseline*100)"
   ]
  },
  {
   "cell_type": "markdown",
   "id": "3a3999e1-019d-44a1-863e-863a9c3e7c3f",
   "metadata": {},
   "source": [
    "If we use this simple logic we can get roughly **88%** accuracy"
   ]
  },
  {
   "cell_type": "markdown",
   "id": "fbe99780-a69d-4d1e-ac56-937672457026",
   "metadata": {},
   "source": [
    "It is also helpful to look only at the difficult timeframes (during working hours). We would only have to guess with 100% occupied during this time frame"
   ]
  },
  {
   "cell_type": "code",
   "execution_count": 11,
   "id": "e24d2654-ce61-4775-84b5-8ba0fe5c401a",
   "metadata": {},
   "outputs": [
    {
     "name": "stdout",
     "output_type": "stream",
     "text": [
      "Test Accuracy for Naieve guessing during Work hours :  0.6717811874583055\n"
     ]
    }
   ],
   "source": [
    "test_realworkhours = test[baseline_mask]\n",
    "naieve_guess_realworkhours = np.ones(len(test_realworkhours)).reshape(-1,1)\n",
    "baseline_wh = metrics.accuracy_score(test_realworkhours.Occupancy, naieve_guess_realworkhours)\n",
    "print('Test Accuracy for Naieve guessing during Work hours : ', baseline_wh)"
   ]
  },
  {
   "cell_type": "markdown",
   "id": "a5a93456-0c64-4135-90de-a6d4c61d086a",
   "metadata": {},
   "source": [
    "So while the overall accuracy of our naieve implementation is roughly **88%**, it's important to know that accuracy during working hours is really **67%**.  This number would be even lower when considering holidays."
   ]
  },
  {
   "cell_type": "markdown",
   "id": "4ecb2831-352e-477b-b08b-cfe0e57f981f",
   "metadata": {},
   "source": [
    "## Train and Testing"
   ]
  },
  {
   "cell_type": "markdown",
   "id": "e508ff9b-bbd7-4acd-b863-70d09a2ca2d5",
   "metadata": {},
   "source": [
    "By default SGDClassifier uses a SVM model, but trains using small batches. Many other models were considered including: Decision Tree, SVM without SGD, a MLP.  SVM with SGD is shown here becuase it was the best performing model."
   ]
  },
  {
   "cell_type": "code",
   "execution_count": 23,
   "id": "9f08d98e-15b6-4801-8f49-2892fa50071f",
   "metadata": {},
   "outputs": [
    {
     "name": "stdout",
     "output_type": "stream",
     "text": [
      "\tTest Accuracy: 99.0980107916566\n",
      "\tTest Accuracy above baseline : 10.984940001610699\n"
     ]
    }
   ],
   "source": [
    "sgdm = SGDClassifier(loss=\"hinge\", penalty=\"l1\", max_iter=10000) # \n",
    "sgdm.fit(train_ballanced.drop(columns = exclude_cols), train_ballanced['Occupancy'])\n",
    "sgdm_full_pred = sgdm.predict(test.drop(columns = exclude_cols))\n",
    "accuracy = metrics.accuracy_score(test.Occupancy, sgdm_full_pred) \n",
    "\n",
    "sgdm_aab = (accuracy - baseline) * 100\n",
    "print(\"\\tTest Accuracy:\",accuracy * 100)\n",
    "print(\"\\tTest Accuracy above baseline :\",sgdm_aab)\n",
    "pickle.dump(sgdm, open('hvac_model.sav', 'wb'))"
   ]
  },
  {
   "cell_type": "code",
   "execution_count": 33,
   "id": "58e6fd8d-2b56-48ba-8cea-5581fc081711",
   "metadata": {},
   "outputs": [
    {
     "name": "stdout",
     "output_type": "stream",
     "text": [
      "\tTest Accuracy: 98.7919787388258\n",
      "\tTest Accuracy above baseline : 10.678907948779903\n"
     ]
    }
   ],
   "source": [
    "sgdm = SGDClassifier(loss=\"hinge\", penalty=\"l1\", max_iter=10000) # \n",
    "sgdm.fit(train.drop(columns = exclude_cols), train['Occupancy'])\n",
    "sgdm_full_pred = sgdm.predict(test.drop(columns = exclude_cols))\n",
    "accuracy = metrics.accuracy_score(test.Occupancy, sgdm_full_pred) \n",
    "\n",
    "sgdm_aab = (accuracy - baseline) * 100\n",
    "print(\"\\tTest Accuracy:\",accuracy * 100)\n",
    "print(\"\\tTest Accuracy above baseline :\",sgdm_aab)\n",
    "pickle.dump(sgdm, open('hvac_model.sav', 'wb'))"
   ]
  },
  {
   "cell_type": "code",
   "execution_count": 13,
   "id": "2facaa62-0c24-4c19-8f37-0af56e1cd7bd",
   "metadata": {},
   "outputs": [
    {
     "name": "stdout",
     "output_type": "stream",
     "text": [
      "\tWork Hours Test Accuracy: 97.50945074494108\n",
      "\tWork Hours Test Accuracy above baseline : 30.33133199911052\n"
     ]
    }
   ],
   "source": [
    "sgdm_diff_pred = sgdm.predict(test_realworkhours.drop(columns = exclude_cols))\n",
    "diff_accuracy = metrics.accuracy_score(test_realworkhours.Occupancy, sgdm_diff_pred) \n",
    "\n",
    "sgdm_aab_diff = (diff_accuracy - baseline_wh) * 100\n",
    "print(\"\\tWork Hours Test Accuracy:\",diff_accuracy * 100)\n",
    "print(\"\\tWork Hours Test Accuracy above baseline :\",sgdm_aab_diff)\n",
    "pickle.dump(sgdm, open('hvac_model.sav', 'wb'))"
   ]
  },
  {
   "cell_type": "code",
   "execution_count": 14,
   "id": "f27e779a-876c-48e4-aaeb-9a7296fe0e61",
   "metadata": {},
   "outputs": [],
   "source": [
    "# Save the model for the cloud solution\n",
    "filename = 'hvac_model.sav'\n",
    "pickle.dump(sgdm, open(filename, 'wb'))"
   ]
  },
  {
   "cell_type": "code",
   "execution_count": 15,
   "id": "a3b4dcbf-29c7-4a26-90bd-a981e5d1ebe0",
   "metadata": {},
   "outputs": [
    {
     "data": {
      "image/png": "[encoded data removed]",
      "text/plain": [
       "<Figure size 432x288 with 2 Axes>"
      ]
     },
     "metadata": {
      "needs_background": "light"
     },
     "output_type": "display_data"
    }
   ],
   "source": [
    "ConfusionMatrixDisplay.from_predictions(test.Occupancy, sgdm_full_pred)\n",
    "plt.show()"
   ]
  },
  {
   "cell_type": "code",
   "execution_count": 16,
   "id": "0cea1995-d914-4d9a-9303-321d7d9adef6",
   "metadata": {},
   "outputs": [
    {
     "data": {
      "image/png": "[encoded data removed]",
      "text/plain": [
       "<Figure size 432x288 with 2 Axes>"
      ]
     },
     "metadata": {
      "needs_background": "light"
     },
     "output_type": "display_data"
    }
   ],
   "source": [
    "ConfusionMatrixDisplay.from_predictions(test_realworkhours.Occupancy, sgdm_diff_pred)\n",
    "plt.show()"
   ]
  },
  {
   "cell_type": "markdown",
   "id": "af1836bd-7daf-413a-a4b2-9bd06b85d6a3",
   "metadata": {
    "tags": []
   },
   "source": [
    "# Curve to see how much more data collection is needed."
   ]
  },
  {
   "cell_type": "code",
   "execution_count": 25,
   "id": "eb6c8311-5d1e-46ac-b8a4-6c90713f0bbb",
   "metadata": {},
   "outputs": [],
   "source": [
    "occ_subset = train_ballanced[train_ballanced.Occupancy == 1]\n",
    "unocc_subset = train_ballanced[train_ballanced.Occupancy == 0]"
   ]
  },
  {
   "cell_type": "code",
   "execution_count": 31,
   "id": "f7af09a7-6c40-4094-8328-5906dec72bed",
   "metadata": {},
   "outputs": [],
   "source": [
    "accuracies = []\n",
    "for i in np.arange(0.001,1,0.001):\n",
    "    xy_occ = occ_subset.sample(frac=i, replace=False)\n",
    "    xy_unocc = unocc_subset.sample(frac=i, replace=False)\n",
    "    x = pd.concat([xy_occ.drop(columns = exclude_cols), xy_unocc.drop(columns = exclude_cols)])\n",
    "    y = pd.concat([xy_occ.Occupancy, xy_unocc.Occupancy])\n",
    "    \n",
    "    model = SGDClassifier(loss=\"hinge\", penalty=\"l1\", max_iter=10000) # \n",
    "    model.fit(x,y)\n",
    "    svmm_full_pred = model.predict(test.drop(columns = exclude_cols))\n",
    "    score = metrics.accuracy_score(test.Occupancy, svmm_full_pred)\n",
    "    # print(\"\\tTest Accuracy all  :\",score)\n",
    "    accuracies.append(score)"
   ]
  },
  {
   "cell_type": "code",
   "execution_count": 32,
   "id": "9f0f0ab2-6fd9-4333-8ee3-08fe5c008b09",
   "metadata": {},
   "outputs": [
    {
     "data": {
      "image/png": "[encoded data removed]",
      "text/plain": [
       "<Figure size 1440x360 with 1 Axes>"
      ]
     },
     "metadata": {
      "needs_background": "light"
     },
     "output_type": "display_data"
    }
   ],
   "source": [
    "plt.figure(figsize=(20,5))\n",
    "plt.plot(np.arange(0.001,1,0.001),accuracies)\n",
    "plt.xlabel('Percentage of train dataset')\n",
    "plt.ylabel('Accuracy')\n",
    "plt.show()"
   ]
  },
  {
   "cell_type": "markdown",
   "id": "ba48bddc-6702-42b2-868e-509222d41fce",
   "metadata": {},
   "source": [
    "It appears that increasing the data would not greatly improve our model, but this is also a bit misleading!"
   ]
  },
  {
   "cell_type": "code",
   "execution_count": null,
   "id": "45c03178-6d0e-4466-9bec-e200f2b5aef6",
   "metadata": {},
   "outputs": [],
   "source": []
  },
  {
   "cell_type": "code",
   "execution_count": null,
   "id": "7b322bf3-5b73-4947-9ed6-1b9097d79fb4",
   "metadata": {},
   "outputs": [],
   "source": []
  }
 ],
 "metadata": {
  "kernelspec": {
   "display_name": "Python 3 (ipykernel)",
   "language": "python",
   "name": "python3"
  },
  "language_info": {
   "codemirror_mode": {
    "name": "ipython",
    "version": 3
   },
   "file_extension": ".py",
   "mimetype": "text/x-python",
   "name": "python",
   "nbconvert_exporter": "python",
   "pygments_lexer": "ipython3",
   "version": "3.9.7"
  }
 },
 "nbformat": 4,
 "nbformat_minor": 5
}
